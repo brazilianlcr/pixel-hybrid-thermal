{
 "cells": [
  {
   "cell_type": "code",
   "execution_count": 7,
   "metadata": {},
   "outputs": [
    {
     "name": "stdout",
     "output_type": "stream",
     "text": [
      "[[ 7.79978e-07  8.17356e-07 -9.67228e-07 ...  0.00000e+00  0.00000e+00\n",
      "   0.00000e+00]\n",
      " [ 0.00000e+00  0.00000e+00  0.00000e+00 ...  0.00000e+00 -1.00000e-01\n",
      "   1.00000e+00]\n",
      " [-7.99410e-07  8.33655e-07 -1.06757e-06 ...  0.00000e+00  0.00000e+00\n",
      "   2.00000e+00]\n",
      " ...\n",
      " [ 5.03804e-07 -5.48304e-08 -1.57579e-06 ...  1.26197e+01  7.50000e-02\n",
      "   1.55250e+04]\n",
      " [-3.18934e-08  4.85283e-07 -1.57676e-06 ...  2.50847e+00  7.50000e-02\n",
      "   1.55260e+04]\n",
      " [ 5.96551e-07 -8.23705e-08 -1.59377e-06 ...  1.34311e+01  7.50000e-02\n",
      "   1.55270e+04]]\n",
      "[['Displacement in x']\n",
      " ['Displacement in y']\n",
      " ['Displacement in z']\n",
      " ['Strain in x']\n",
      " ['Strain in y']\n",
      " ['Strain in z']\n",
      " ['Stress in x']\n",
      " ['Stress in y']\n",
      " ['Stress in z']\n",
      " ['Max shear stress (Tresca)']\n",
      " ['Max Principal Stress']\n",
      " ['Median Principal Stress']\n",
      " ['Min Principal Stress']\n",
      " ['Von Mises Stress']\n",
      " ['Temperature']\n",
      " ['x']\n",
      " ['y']\n",
      " ['z']\n",
      " ['Point ID']]\n"
     ]
    }
   ],
   "source": [
    "#Imports data from Paaraview .csv spreadsheet.\n",
    "import numpy as np\n",
    "import math \n",
    "from numpy import genfromtxt\n",
    "data = genfromtxt('dataa.csv' , delimiter = ',')\n",
    "\n",
    "#Cuts first row (non-physical quantities) and returns matrix with actual data. \n",
    "data = data[1:len(data), :]\n",
    "print(data)\n",
    "\n",
    "#Creates array with names for each of the columns in the data file with the underlying quantity being shown (bookkeeping). \n",
    "data_order = np.array([['Displacement in x'], ['Displacement in y'], ['Displacement in z'], ['Strain in x'], ['Strain in y'], ['Strain in z'], ['Stress in x'], ['Stress in y'], ['Stress in z'], ['Max shear stress (Tresca)'], ['Max Principal Stress'], ['Median Principal Stress'], ['Min Principal Stress'], ['Von Mises Stress'], ['Temperature'], ['x'], ['y'], ['z'], ['Point ID']])\n",
    "print(data_order)\n",
    "\n",
    "\n",
    "\n"
   ]
  },
  {
   "cell_type": "code",
   "execution_count": 8,
   "metadata": {
    "scrolled": true
   },
   "outputs": [
    {
     "name": "stdout",
     "output_type": "stream",
     "text": [
      "[ 5.15725879 30.03895453  5.35177711 ... 29.58282341 31.54935985\n",
      " 28.60586727]\n"
     ]
    },
    {
     "data": {
      "text/plain": [
       "array([ 5.15725879, 30.03895453,  5.35177711, ..., 29.58282341,\n",
       "       31.54935985, 28.60586727])"
      ]
     },
     "execution_count": 8,
     "metadata": {},
     "output_type": "execute_result"
    }
   ],
   "source": [
    "### Performs the post processing by volume averaging method \n",
    "\n",
    "# Height of each interface in each model \n",
    "interfaces_thin = [-0.1, 0, 0.15, 0.175, 0.325, 0.375, 0.395, 0.4125, 0.4325, 0.450, 0.47]\n",
    "interfaces_thick = [-0.1, 0, 0.15, 0.175, 0.325, 0.375, 0.395, 0.4125, 0.4825, 0.5, 0.52]\n",
    "stresses = []\n",
    "## Helper function that assigns weights to each point\n",
    "# P_i is the point to which a weight is being assigned \n",
    "# P_0 is the reference point for that iteration\n",
    "# Both arguments have to be a row vector taken from the data matrix \n",
    "def weight(P_i, P_0):\n",
    "    distance = math.sqrt(((P_i[15]-P_0[15])**2)+((P_i[16]-P_0[16])**2)+((P_i[17]-P_0[17])**2))\n",
    "    if distance!=0:\n",
    "        W = 1/distance # Simple inverse relation for points around P_0\n",
    "        return W\n",
    "    else:\n",
    "        W = 0 # P_0 is not considered in post-processing itself in this method\n",
    "        return W\n",
    "\n",
    "## Iterates for every data point \n",
    "data_ave = data\n",
    "\n",
    "for i in range(len(data)):\n",
    "    \n",
    "    # Determines the layer at which the point is\n",
    "    if interfaces_thin[0]<=data[i, 17]<interfaces_thin[1]:\n",
    "        layer = 0\n",
    "    elif interfaces_thin[1]<=data[i, 17]<interfaces_thin[2]:\n",
    "        layer = 1\n",
    "    elif interfaces_thin[2]<=data[i, 17]<interfaces_thin[3]:\n",
    "        layer = 2\n",
    "    elif interfaces_thin[3]<=data[i, 17]<interfaces_thin[4]:\n",
    "        layer = 3\n",
    "    elif interfaces_thin[4]<=data[i, 17]<interfaces_thin[5]:\n",
    "        layer = 4\n",
    "    elif interfaces_thin[5]<=data[i, 17]<interfaces_thin[6]:\n",
    "        layer = 5\n",
    "    elif interfaces_thin[6]<=data[i, 17]<interfaces_thin[7]:\n",
    "        layer = 6\n",
    "    elif interfaces_thin[7]<=data[i, 17]<interfaces_thin[8]:\n",
    "        layer = 7\n",
    "    elif interfaces_thin[8]<=data[i, 17]<interfaces_thin[9]:\n",
    "        layer = 8\n",
    "    elif interfaces_thin[9]<=data[i, 17]<interfaces_thin[10]:\n",
    "        layer = 9\n",
    "    \n",
    "    # This block creates the finite volume\n",
    "    # For now let's assume the box size is 2 mm in x and y and 1 mm in z\n",
    "    boundaryx = np.array([data[i, 15]-1, data[i, 15]+1])\n",
    "    boundaryy = np.array([data[i, 16]-1, data[i, 16]+1])\n",
    "    boundaryz = np.array([data[i, 17]-0.5, data[i, 17]+0.5])\n",
    "    \n",
    "    # Makes sure finite volume does not cross material boundaries\n",
    "    if interfaces_thin[layer]>boundaryz[0]:\n",
    "\n",
    "        boundaryz[0] = interfaces_thin[layer]\n",
    "    \n",
    "    if boundaryz[1]>interfaces_thin[layer+1]:\n",
    "   \n",
    "        boundaryz[1] = interfaces_thin[layer+1]\n",
    "        \n",
    "    # Identifies the points within the finite volume \n",
    "    points_in_volume = []\n",
    "    for j in range(len(data)-1):\n",
    "        if boundaryx[0]<data[j, 15]<boundaryx[1] and boundaryy[0]<data[j, 16]<boundaryy[1] and boundaryz[0]<data[j, 17]<boundaryz[1]:\n",
    "            points_in_volume = np.concatenate((points_in_volume, np.array([j])), axis = 0)\n",
    "    \n",
    "    # Applies the statistical algorithm to the selected points\n",
    "    W = []\n",
    "    ave = 0\n",
    "    for j in points_in_volume:\n",
    "        W_j = weight(data[int(j), :], data[int(i), :])\n",
    "        ave = ave + (W_j*(data[int(j), 10]))\n",
    "        W = np.concatenate((W, np.array([W_j])), axis = 0)\n",
    "            \n",
    "    if sum(W)!=0:\n",
    "        ave = ave/sum(W)\n",
    "    else: \n",
    "        ave = data[int(i), 10]\n",
    "    \n",
    "    stresses = np.concatenate((stresses, np.array([ave])), axis = 0) \n",
    "    \n",
    "print(stresses)\n",
    "return stresses\n",
    "\n",
    "data_ave[:, 10] = stresses\n",
    "print(data_ave)\n",
    "return data_ave\n"
   ]
  },
  {
   "cell_type": "code",
   "execution_count": 14,
   "metadata": {
    "scrolled": true
   },
   "outputs": [
    {
     "data": {
      "text/plain": [
       "array([False, False, False, ..., False, False, False])"
      ]
     },
     "execution_count": 14,
     "metadata": {},
     "output_type": "execute_result"
    }
   ],
   "source": []
  },
  {
   "cell_type": "code",
   "execution_count": 27,
   "metadata": {},
   "outputs": [
    {
     "data": {
      "text/plain": [
       "1.0582834020698777"
      ]
     },
     "execution_count": 27,
     "metadata": {},
     "output_type": "execute_result"
    }
   ],
   "source": [
    "(3.4*4)/12.851"
   ]
  },
  {
   "cell_type": "code",
   "execution_count": null,
   "metadata": {},
   "outputs": [],
   "source": []
  }
 ],
 "metadata": {
  "kernelspec": {
   "display_name": "Python 3",
   "language": "python",
   "name": "python3"
  },
  "language_info": {
   "codemirror_mode": {
    "name": "ipython",
    "version": 3
   },
   "file_extension": ".py",
   "mimetype": "text/x-python",
   "name": "python",
   "nbconvert_exporter": "python",
   "pygments_lexer": "ipython3",
   "version": "3.7.1"
  }
 },
 "nbformat": 4,
 "nbformat_minor": 2
}
