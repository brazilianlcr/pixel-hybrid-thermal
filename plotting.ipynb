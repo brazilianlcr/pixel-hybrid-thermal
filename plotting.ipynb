{
 "cells": [
  {
   "cell_type": "code",
   "execution_count": 1,
   "metadata": {},
   "outputs": [],
   "source": [
    "#Algorithm that takes data along a line from post processed dataset. \n",
    "\n",
    "## Uploads dataset from PP code\n",
    "import numpy as np\n",
    "import math \n",
    "from numpy import genfromtxt\n",
    "data_ave = genfromtxt('dataa.csv' , delimiter = ',')"
   ]
  },
  {
   "cell_type": "code",
   "execution_count": 2,
   "metadata": {},
   "outputs": [],
   "source": [
    "# Helper function that assigns weights to points based on distance to reference point\n",
    "def weight(P_i, P_0): \n",
    "    # P_0 corresponds to reference point, P_i corresponds to the point being weighed\n",
    "    # Arguments are 1 x 5 arrays where columns 2, 3 and 4 correspond to coordinates (x, y, z) \n",
    "    \n",
    "    # Distance between P_0 and P_i\n",
    "    distance = math.sqrt(((P_i[2]-P_0[2])**2)+((P_i[3]-P_0[3])**2)+((P_i[4]-P_0[4])**2)) \n",
    "    if distance!=0:\n",
    "        W = 1/distance # Simple inverse relation for points around P_0\n",
    "        return W\n",
    "    else:\n",
    "        W = 0 # P_0 is not weighed against itself\n",
    "        return W\n",
    "\n",
    "dh = 0.001 # Height step of graph \n",
    "stress = []\n",
    "posdata = data_ave[:, (15, 16, 17)] # Data array with only positional entries (x, y, z)\n",
    "\n",
    "for i in range(700):\n",
    "    h = -0.1+(i*dh) # Height of analysis (algorithm iterates for several heights along a line)\n",
    "    pos = np.array([10, 10, h]) # Position of analysis\n",
    "    dis = []\n",
    "    S_i = 0\n",
    "    \n",
    "    for j in range(len(posdata)): \n",
    "        # Calculates the distance between every data point and point of analysis\n",
    "        dis = np.concatenate((dis, np.array([np.linalg.norm((posdata[j]-pos))])), axis = 0)\n",
    "    \n",
    "    # Tagging - Associates distances with stresses and then sorts by distance \n",
    "    datasort = np.transpose(np.vstack((dis, data_ave[:, 10], data_ave[:, 15], data_ave[:, 16], data_ave[:, 17])))\n",
    "    datasort = datasort[datasort[:,0].argsort()]\n",
    "    W = []\n",
    "    pos5 = np.concatenate((np.array([0, 0]), pos), axis=0)\n",
    "    \n",
    "    for k in range(50): # Performs weighing for n+1 closest points \n",
    "            W_k = weight(datasort[int(k), :], pos5) \n",
    "            S_i = S_i + (W_k*datasort[int(k), 1])\n",
    "            W = np.concatenate((W, np.array([W_k])), axis = 0)\n",
    "            \n",
    "    if sum(W)!=0:\n",
    "        S_i = S_i/sum(W)\n",
    "    else: \n",
    "        S_i = datasort[0, 1] # In case algorithm crashes, it reverts back to the closest point\n",
    "\n",
    "    stress = np.concatenate((stress, np.array([S_i])), axis = 0) # Adds the calculated stress value\n",
    "    "
   ]
  },
  {
   "cell_type": "code",
   "execution_count": 4,
   "metadata": {},
   "outputs": [
    {
     "data": {
      "text/plain": [
       "[<matplotlib.lines.Line2D at 0x62963c7860>]"
      ]
     },
     "execution_count": 4,
     "metadata": {},
     "output_type": "execute_result"
    },
    {
     "data": {
      "image/png": "[encoded data removed]",
      "text/plain": [
       "<Figure size 432x288 with 1 Axes>"
      ]
     },
     "metadata": {
      "needs_background": "light"
     },
     "output_type": "display_data"
    }
   ],
   "source": [
    "import matplotlib.pyplot as plt\n",
    "height = np.linspace(-0.1, 0.6, num = 700)\n",
    "plt.plot(height, stress)"
   ]
  },
  {
   "cell_type": "code",
   "execution_count": 13,
   "metadata": {},
   "outputs": [
    {
     "name": "stdout",
     "output_type": "stream",
     "text": [
      "[9 1]\n"
     ]
    }
   ],
   "source": []
  },
  {
   "cell_type": "code",
   "execution_count": null,
   "metadata": {},
   "outputs": [],
   "source": []
  }
 ],
 "metadata": {
  "kernelspec": {
   "display_name": "Python 3",
   "language": "python",
   "name": "python3"
  },
  "language_info": {
   "codemirror_mode": {
    "name": "ipython",
    "version": 3
   },
   "file_extension": ".py",
   "mimetype": "text/x-python",
   "name": "python",
   "nbconvert_exporter": "python",
   "pygments_lexer": "ipython3",
   "version": "3.7.1"
  }
 },
 "nbformat": 4,
 "nbformat_minor": 2
}
